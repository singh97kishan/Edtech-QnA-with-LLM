{
 "cells": [
  {
   "cell_type": "code",
   "execution_count": 2,
   "metadata": {},
   "outputs": [],
   "source": [
    "import os\n",
    "from dotenv import load_dotenv\n",
    "\n",
    "api_key = os.environ['GOOGLE_API_KEY']"
   ]
  },
  {
   "cell_type": "code",
   "execution_count": 3,
   "metadata": {},
   "outputs": [],
   "source": [
    "from langchain.llms import GooglePalm\n",
    "from langchain.document_loaders.csv_loader import CSVLoader\n",
    "from langchain.embeddings import HuggingFaceInstructEmbeddings\n",
    "from langchain.vectorstores import FAISS\n",
    "from langchain.prompts import FewShotPromptTemplate\n",
    "from langchain import PromptTemplate"
   ]
  },
  {
   "cell_type": "code",
   "execution_count": 4,
   "metadata": {},
   "outputs": [
    {
     "data": {
      "text/plain": [
       "\"| Rank | Movie Title | IMDB Rating |\\n|---|---|---|\\n| 1 | The Shawshank Redemption | 9.3 |\\n| 2 | The Godfather | 9.2 |\\n| 3 | The Dark Knight | 9.0 |\\n| 4 | 12 Angry Men | 8.9 |\\n| 5 | The Godfather Part II | 8.9 |\\n| 6 | The Lord of the Rings: The Return of the King | 8.9 |\\n| 7 | Pulp Fiction | 8.9 |\\n| 8 | Schindler's List | 8.9 |\\n| 9 | The Good, the Bad and the Ugly | 8.8 |\\n| 10 | The Silence of the Lambs | 8.6 |\""
      ]
     },
     "execution_count": 4,
     "metadata": {},
     "output_type": "execute_result"
    }
   ],
   "source": [
    "llm= GooglePalm(api_key = api_key, temperature=0.1)\n",
    "llm(\"Give me 10 best movies according to IMDB rating\")"
   ]
  },
  {
   "cell_type": "code",
   "execution_count": 5,
   "metadata": {},
   "outputs": [
    {
     "data": {
      "text/plain": [
       "[Document(page_content='query: What is the purpose of online education?\\nresponse: Online education provides flexibility for learners to access courses and materials from anywhere, at any time, fostering a more accessible learning environment.', metadata={'source': 'What is the purpose of online education?', 'row': 0}),\n",
       " Document(page_content='query: How do I enroll in a course?\\nresponse: To enroll in a course, visit our website, select the desired course, and follow the on-screen instructions for registration and payment.', metadata={'source': 'How do I enroll in a course?', 'row': 1})]"
      ]
     },
     "execution_count": 5,
     "metadata": {},
     "output_type": "execute_result"
    }
   ],
   "source": [
    "loader = CSVLoader(file_path= 'faqs_data.csv', source_column='query')\n",
    "data = loader.load()\n",
    "\n",
    "data[:2]"
   ]
  },
  {
   "cell_type": "code",
   "execution_count": 6,
   "metadata": {},
   "outputs": [
    {
     "name": "stderr",
     "output_type": "stream",
     "text": [
      "c:\\Users\\Kishan\\anaconda3\\envs\\mlenv2\\lib\\site-packages\\InstructorEmbedding\\instructor.py:7: TqdmWarning: IProgress not found. Please update jupyter and ipywidgets. See https://ipywidgets.readthedocs.io/en/stable/user_install.html\n",
      "  from tqdm.autonotebook import trange\n"
     ]
    },
    {
     "name": "stdout",
     "output_type": "stream",
     "text": [
      "load INSTRUCTOR_Transformer\n",
      "max_seq_length  512\n"
     ]
    }
   ],
   "source": [
    "from langchain.embeddings import HuggingFaceInstructEmbeddings\n",
    "\n",
    "# Initialize instructor embeddings using the Hugging Face model\n",
    "# It gives embedding based on instruct parameter\n",
    "instructor_embeddings = HuggingFaceInstructEmbeddings(model_name=\"hkunlp/instructor-large\")\n",
    "\n",
    "e = instructor_embeddings.embed_query(\"What is your refund policy?\")"
   ]
  },
  {
   "cell_type": "code",
   "execution_count": 9,
   "metadata": {},
   "outputs": [
    {
     "data": {
      "text/plain": [
       "[-0.043898068368434906,\n",
       " 0.007685542572289705,\n",
       " -0.009231895208358765,\n",
       " 0.024496261030435562,\n",
       " 0.03359226509928703]"
      ]
     },
     "execution_count": 9,
     "metadata": {},
     "output_type": "execute_result"
    }
   ],
   "source": [
    "e[:5]"
   ]
  },
  {
   "cell_type": "code",
   "execution_count": 10,
   "metadata": {},
   "outputs": [],
   "source": [
    "vectordb = FAISS.from_documents(documents= data, embedding= instructor_embeddings)"
   ]
  },
  {
   "cell_type": "code",
   "execution_count": 15,
   "metadata": {},
   "outputs": [
    {
     "data": {
      "text/plain": [
       "[Document(page_content='query: How can I contact customer support?\\nresponse: You can reach our customer support team via email at support@example.com or through the live chat feature on our website during business hours.', metadata={'source': 'How can I contact customer support?', 'row': 6}),\n",
       " Document(page_content='query: Is there a trial period for courses?\\nresponse: Some courses offer a trial period. Check the course page for information on trial options, or contact support for assistance.', metadata={'source': 'Is there a trial period for courses?', 'row': 12}),\n",
       " Document(page_content='query: How can I reset my password?\\nresponse: Visit the login page, click on \"Forgot Password,\" and follow the instructions sent to your registered email to reset your password securely.', metadata={'source': 'How can I reset my password?', 'row': 4}),\n",
       " Document(page_content='query: How do I enroll in a course?\\nresponse: To enroll in a course, visit our website, select the desired course, and follow the on-screen instructions for registration and payment.', metadata={'source': 'How do I enroll in a course?', 'row': 1})]"
      ]
     },
     "execution_count": 15,
     "metadata": {},
     "output_type": "execute_result"
    }
   ],
   "source": [
    "#Retreiver takes the input sentence and finds the relevant docs\n",
    "\n",
    "retriever = vectordb.as_retriever()\n",
    "rdocs = retriever.get_relevant_documents(\"Is there a way to contact the support team?\")\n",
    "rdocs"
   ]
  },
  {
   "cell_type": "code",
   "execution_count": 24,
   "metadata": {},
   "outputs": [],
   "source": [
    "prompt_template = \"\"\"Given the following context and a question, generate an answer based on this context only.\n",
    "In the answer try to provide as much text as possible from \"response\" section in the source document context without making much changes.\n",
    "If the answer is not found in the context, kindly state \"I don't know.\" Don't try to make up an answer.\n",
    "\n",
    "CONTEXT: {context}\n",
    "\n",
    "QUESTION: {question}\"\"\"\n",
    "\n",
    "PROMPT = PromptTemplate(\n",
    "    template = prompt_template, input_variables=[\"context\", \"question\"]\n",
    ")\n",
    "\n",
    "chain_type_kwargs = {\"prompt\": PROMPT}"
   ]
  },
  {
   "cell_type": "code",
   "execution_count": 25,
   "metadata": {},
   "outputs": [],
   "source": [
    "from langchain.chains import RetrievalQA\n",
    "\n",
    "chain = RetrievalQA.from_chain_type(llm=llm,\n",
    "                            chain_type=\"stuff\",\n",
    "                            retriever=retriever,\n",
    "                            input_key=\"query\",\n",
    "                            return_source_documents=True,\n",
    "                            chain_type_kwargs=chain_type_kwargs)"
   ]
  },
  {
   "cell_type": "code",
   "execution_count": 23,
   "metadata": {},
   "outputs": [
    {
     "data": {
      "text/plain": [
       "{'query': 'How can I enroll in the course and is there any financial aid policy?',\n",
       " 'result': 'To enroll in a course, visit our website, select the desired course, and follow the on-screen instructions for registration and payment. Yes, we offer financial aid for eligible students. Check the course details or contact our financial aid department for information on the application process.',\n",
       " 'source_documents': [Document(page_content='query: Are there financial aid options?\\nresponse: Yes, we offer financial aid for eligible students. Check the course details or contact our financial aid department for information on the application process.', metadata={'source': 'Are there financial aid options?', 'row': 5}),\n",
       "  Document(page_content='query: How do I enroll in a course?\\nresponse: To enroll in a course, visit our website, select the desired course, and follow the on-screen instructions for registration and payment.', metadata={'source': 'How do I enroll in a course?', 'row': 1}),\n",
       "  Document(page_content='query: Is there a trial period for courses?\\nresponse: Some courses offer a trial period. Check the course page for information on trial options, or contact support for assistance.', metadata={'source': 'Is there a trial period for courses?', 'row': 12}),\n",
       "  Document(page_content='query: Can I switch to a different course?\\nresponse: Depending on availability and policies, you may be able to switch courses. Contact our support team to discuss your situation and explore available options.', metadata={'source': 'Can I switch to a different course?', 'row': 11})]}"
      ]
     },
     "execution_count": 23,
     "metadata": {},
     "output_type": "execute_result"
    }
   ],
   "source": [
    "#It finds the multiple questions from the data and tries to give answers merging them logically\n",
    "chain(\"How can I enroll in the course and is there any financial aid policy?\")"
   ]
  },
  {
   "cell_type": "code",
   "execution_count": 26,
   "metadata": {},
   "outputs": [
    {
     "data": {
      "text/plain": [
       "{'query': 'Do you have any plan to launch GenAI course?',\n",
       " 'result': \"I don't know.\",\n",
       " 'source_documents': [Document(page_content='query: Are there courses on Deep Learning and Neural Nets?\\nresponse: Yes, we offer specialized courses on Deep Learning, covering topics such as neural networks, convolutional neural networks (CNNs), and recurrent neural networks (RNNs).', metadata={'source': 'Are there courses on Deep Learning and Neural Nets?', 'row': 27}),\n",
       "  Document(page_content='query: Can I get mentorship during the ML projects?\\nresponse: Yes, some courses offer mentorship options where experienced professionals in the field provide guidance and feedback on your ML projects. Check the course details for mentorship availability.', metadata={'source': 'Can I get mentorship during the ML projects?', 'row': 29}),\n",
       "  Document(page_content='query: How often are ML courses updated with new content?\\nresponse: We regularly update our courses to reflect the latest advancements in the field. Expect content updates and new modules to ensure you receive the most current and relevant information.', metadata={'source': 'How often are ML courses updated with new content?', 'row': 32}),\n",
       "  Document(page_content='query: How can I get certified in Machine Learning?\\nresponse: Upon successful completion of our ML courses, you will receive a certificate of completion. This certificate can be shared on professional platforms to showcase your skills to potential employers.', metadata={'source': 'How can I get certified in Machine Learning?', 'row': 35})]}"
      ]
     },
     "execution_count": 26,
     "metadata": {},
     "output_type": "execute_result"
    }
   ],
   "source": [
    "# It will throw 'I don't know' incase the csv doesn't have any info about the question\n",
    "chain(\"Do you have any plan to launch GenAI course?\")"
   ]
  },
  {
   "cell_type": "code",
   "execution_count": null,
   "metadata": {},
   "outputs": [],
   "source": []
  }
 ],
 "metadata": {
  "kernelspec": {
   "display_name": "mlenv2",
   "language": "python",
   "name": "python3"
  },
  "language_info": {
   "codemirror_mode": {
    "name": "ipython",
    "version": 3
   },
   "file_extension": ".py",
   "mimetype": "text/x-python",
   "name": "python",
   "nbconvert_exporter": "python",
   "pygments_lexer": "ipython3",
   "version": "3.8.1"
  }
 },
 "nbformat": 4,
 "nbformat_minor": 2
}
